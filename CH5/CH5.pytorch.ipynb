{
 "cells": [
  {
   "cell_type": "code",
   "execution_count": 1,
   "id": "bb76374b-d98f-408b-a3a5-192b5af97d07",
   "metadata": {},
   "outputs": [],
   "source": [
    "import torch\n",
    "from torch import nn\n",
    "from torch.utils.data import DataLoader\n",
    "from torchvision import datasets\n",
    "from torchvision.transforms import ToTensor"
   ]
  },
  {
   "cell_type": "code",
   "execution_count": 2,
   "id": "320205db-b207-4f64-8326-c39356a35800",
   "metadata": {},
   "outputs": [
    {
     "name": "stderr",
     "output_type": "stream",
     "text": [
      "100%|█████████████████████████████████████████████████████████████████████████████| 26.4M/26.4M [00:11<00:00, 2.32MB/s]\n",
      "100%|██████████████████████████████████████████████████████████████████████████████| 29.5k/29.5k [00:00<00:00, 148kB/s]\n",
      "100%|█████████████████████████████████████████████████████████████████████████████| 4.42M/4.42M [00:01<00:00, 2.58MB/s]\n",
      "100%|█████████████████████████████████████████████████████████████████████████████| 5.15k/5.15k [00:00<00:00, 8.33MB/s]\n"
     ]
    }
   ],
   "source": [
    "# Download training data from open datasets.\n",
    "training_data = datasets.FashionMNIST(\n",
    "    root=\"data\",\n",
    "    train=True,\n",
    "    download=True,\n",
    "    transform=ToTensor(),\n",
    ")\n",
    "\n",
    "# Download test data from open datasets.\n",
    "test_data = datasets.FashionMNIST(\n",
    "    root=\"data\",\n",
    "    train=False,\n",
    "    download=True,\n",
    "    transform=ToTensor(),\n",
    ")"
   ]
  },
  {
   "cell_type": "code",
   "execution_count": 4,
   "id": "834360ba-1c6b-4965-a0df-e1af8afa7173",
   "metadata": {},
   "outputs": [
    {
     "name": "stdout",
     "output_type": "stream",
     "text": [
      "Shape of X [N, C, H, W]: torch.Size([64, 1, 28, 28])\n",
      "Shape of y: torch.Size([64]) torch.int64\n"
     ]
    }
   ],
   "source": [
    "batch_size = 64\n",
    "\n",
    "# Create data loaders.\n",
    "train_dataloader = DataLoader(training_data, batch_size=batch_size)\n",
    "test_dataloader = DataLoader(test_data, batch_size=batch_size)\n",
    "\n",
    "for X, y in test_dataloader:\n",
    "    print(f\"Shape of X [N, C, H, W]: {X.shape}\")\n",
    "    print(f\"Shape of y: {y.shape} {y.dtype}\")\n",
    "    break\n"
   ]
  },
  {
   "cell_type": "code",
   "execution_count": 6,
   "id": "26c02a45-fa7b-47b8-934d-a04908da1004",
   "metadata": {},
   "outputs": [
    {
     "data": {
      "image/png": "[encoded data removed]",
      "text/plain": [
       "<Figure size 800x800 with 9 Axes>"
      ]
     },
     "metadata": {},
     "output_type": "display_data"
    }
   ],
   "source": [
    "import matplotlib.pyplot as plt\n",
    "labels_map = {\n",
    "    0: \"T-Shirt\",\n",
    "    1: \"Trouser\",\n",
    "    2: \"Pullover\",\n",
    "    3: \"Dress\",\n",
    "    4: \"Coat\",\n",
    "    5: \"Sandal\",\n",
    "    6: \"Shirt\",\n",
    "    7: \"Sneaker\",\n",
    "    8: \"Bag\",\n",
    "    9: \"Ankle Boot\",\n",
    "}\n",
    "figure = plt.figure(figsize=(8, 8))\n",
    "cols, rows = 3, 3\n",
    "for i in range(1, cols * rows + 1):\n",
    "    sample_idx = torch.randint(len(training_data), size=(1,)).item()\n",
    "    img, label = training_data[sample_idx]\n",
    "    figure.add_subplot(rows, cols, i)\n",
    "    plt.title(labels_map[label])\n",
    "    plt.axis(\"off\")\n",
    "    plt.imshow(img.squeeze(), cmap=\"gray\")\n",
    "plt.show()"
   ]
  },
  {
   "cell_type": "code",
   "execution_count": 7,
   "id": "d977803a-a885-47cf-ba29-710ad7793af3",
   "metadata": {},
   "outputs": [
    {
     "name": "stdout",
     "output_type": "stream",
     "text": [
      "Using cpu device\n",
      "NeuralNetwork(\n",
      "  (flatten): Flatten(start_dim=1, end_dim=-1)\n",
      "  (linear_relu_stack): Sequential(\n",
      "    (0): Linear(in_features=784, out_features=512, bias=True)\n",
      "    (1): ReLU()\n",
      "    (2): Linear(in_features=512, out_features=512, bias=True)\n",
      "    (3): ReLU()\n",
      "    (4): Linear(in_features=512, out_features=10, bias=True)\n",
      "  )\n",
      ")\n"
     ]
    }
   ],
   "source": [
    "device = torch.accelerator.current_accelerator().type if torch.accelerator.is_available() else \"cpu\"\n",
    "print(f\"Using {device} device\")\n",
    "\n",
    "# Define model\n",
    "class NeuralNetwork(nn.Module):\n",
    "    def __init__(self):\n",
    "        super().__init__()\n",
    "        self.flatten = nn.Flatten()\n",
    "        self.linear_relu_stack = nn.Sequential(\n",
    "            nn.Linear(28*28, 512),\n",
    "            nn.ReLU(),\n",
    "            nn.Linear(512, 512),\n",
    "            nn.ReLU(),\n",
    "            nn.Linear(512, 10)\n",
    "        )\n",
    "\n",
    "    def forward(self, x):\n",
    "        x = self.flatten(x)\n",
    "        logits = self.linear_relu_stack(x)\n",
    "        return logits\n",
    "\n",
    "model = NeuralNetwork().to(device)\n",
    "print(model)"
   ]
  },
  {
   "cell_type": "code",
   "execution_count": 10,
   "id": "31df4dbc-2ef9-4ef1-ad22-556853df861b",
   "metadata": {},
   "outputs": [],
   "source": [
    "loss_fn = nn.CrossEntropyLoss()\n",
    "optimizer = torch.optim.SGD(model.parameters(), lr=1e-3)\n",
    "\n",
    "def train(dataloader, model, loss_fn, optimizer):\n",
    "    size = len(dataloader.dataset)\n",
    "    model.train()\n",
    "    for batch, (X, y) in enumerate(dataloader):\n",
    "        X, y = X.to(device), y.to(device)\n",
    "\n",
    "        # Compute prediction error\n",
    "        pred = model(X)\n",
    "        loss = loss_fn(pred, y)\n",
    "\n",
    "        # Backpropagation\n",
    "        loss.backward()\n",
    "        optimizer.step()\n",
    "        optimizer.zero_grad()\n",
    "\n",
    "        if batch % 100 == 0:\n",
    "            loss, current = loss.item(), (batch + 1) * len(X)\n",
    "            print(f\"loss: {loss:>7f}  [{current:>5d}/{size:>5d}]\")\n",
    "\n",
    "def test(dataloader, model, loss_fn):\n",
    "    size = len(dataloader.dataset)\n",
    "    num_batches = len(dataloader)\n",
    "    model.eval()\n",
    "    test_loss, correct = 0, 0\n",
    "    with torch.no_grad():\n",
    "        for X, y in dataloader:\n",
    "            X, y = X.to(device), y.to(device)\n",
    "            pred = model(X)\n",
    "            test_loss += loss_fn(pred, y).item()\n",
    "            correct += (pred.argmax(1) == y).type(torch.float).sum().item()\n",
    "    test_loss /= num_batches\n",
    "    correct /= size\n",
    "    print(f\"Test Error: \\n Accuracy: {(100*correct):>0.1f}%, Avg loss: {test_loss:>8f} \\n\")"
   ]
  },
  {
   "cell_type": "code",
   "execution_count": 11,
   "id": "d1f83565-992a-4287-829b-358e5f779e43",
   "metadata": {},
   "outputs": [
    {
     "name": "stdout",
     "output_type": "stream",
     "text": [
      "Epoch 1\n",
      "-------------------------------\n",
      "loss: 2.287664  [   64/60000]\n",
      "loss: 2.281096  [ 6464/60000]\n",
      "loss: 2.261832  [12864/60000]\n",
      "loss: 2.257673  [19264/60000]\n",
      "loss: 2.238972  [25664/60000]\n",
      "loss: 2.197841  [32064/60000]\n",
      "loss: 2.200053  [38464/60000]\n",
      "loss: 2.163627  [44864/60000]\n",
      "loss: 2.166553  [51264/60000]\n",
      "loss: 2.116787  [57664/60000]\n",
      "Test Error: \n",
      " Accuracy: 47.0%, Avg loss: 2.124007 \n",
      "\n",
      "Epoch 2\n",
      "-------------------------------\n",
      "loss: 2.130534  [   64/60000]\n",
      "loss: 2.122222  [ 6464/60000]\n",
      "loss: 2.063462  [12864/60000]\n",
      "loss: 2.080189  [19264/60000]\n",
      "loss: 2.018030  [25664/60000]\n",
      "loss: 1.949316  [32064/60000]\n",
      "loss: 1.968537  [38464/60000]\n",
      "loss: 1.891466  [44864/60000]\n",
      "loss: 1.896748  [51264/60000]\n",
      "loss: 1.797607  [57664/60000]\n",
      "Test Error: \n",
      " Accuracy: 57.2%, Avg loss: 1.818426 \n",
      "\n",
      "Epoch 3\n",
      "-------------------------------\n",
      "loss: 1.847863  [   64/60000]\n",
      "loss: 1.816832  [ 6464/60000]\n",
      "loss: 1.705774  [12864/60000]\n",
      "loss: 1.745859  [19264/60000]\n",
      "loss: 1.625864  [25664/60000]\n",
      "loss: 1.586514  [32064/60000]\n",
      "loss: 1.598260  [38464/60000]\n",
      "loss: 1.517072  [44864/60000]\n",
      "loss: 1.542659  [51264/60000]\n",
      "loss: 1.421742  [57664/60000]\n",
      "Test Error: \n",
      " Accuracy: 62.8%, Avg loss: 1.458174 \n",
      "\n",
      "Epoch 4\n",
      "-------------------------------\n",
      "loss: 1.519064  [   64/60000]\n",
      "loss: 1.488037  [ 6464/60000]\n",
      "loss: 1.349314  [12864/60000]\n",
      "loss: 1.421728  [19264/60000]\n",
      "loss: 1.304158  [25664/60000]\n",
      "loss: 1.308688  [32064/60000]\n",
      "loss: 1.317454  [38464/60000]\n",
      "loss: 1.254041  [44864/60000]\n",
      "loss: 1.290842  [51264/60000]\n",
      "loss: 1.185813  [57664/60000]\n",
      "Test Error: \n",
      " Accuracy: 64.5%, Avg loss: 1.217770 \n",
      "\n",
      "Epoch 5\n",
      "-------------------------------\n",
      "loss: 1.284588  [   64/60000]\n",
      "loss: 1.271966  [ 6464/60000]\n",
      "loss: 1.114373  [12864/60000]\n",
      "loss: 1.220810  [19264/60000]\n",
      "loss: 1.098944  [25664/60000]\n",
      "loss: 1.126925  [32064/60000]\n",
      "loss: 1.145428  [38464/60000]\n",
      "loss: 1.087485  [44864/60000]\n",
      "loss: 1.131166  [51264/60000]\n",
      "loss: 1.043355  [57664/60000]\n",
      "Test Error: \n",
      " Accuracy: 65.3%, Avg loss: 1.066949 \n",
      "\n",
      "Epoch 6\n",
      "-------------------------------\n",
      "loss: 1.125755  [   64/60000]\n",
      "loss: 1.135939  [ 6464/60000]\n",
      "loss: 0.959401  [12864/60000]\n",
      "loss: 1.093095  [19264/60000]\n",
      "loss: 0.969528  [25664/60000]\n",
      "loss: 1.001955  [32064/60000]\n",
      "loss: 1.034656  [38464/60000]\n",
      "loss: 0.978996  [44864/60000]\n",
      "loss: 1.022573  [51264/60000]\n",
      "loss: 0.950950  [57664/60000]\n",
      "Test Error: \n",
      " Accuracy: 66.0%, Avg loss: 0.967159 \n",
      "\n",
      "Epoch 7\n",
      "-------------------------------\n",
      "loss: 1.012194  [   64/60000]\n",
      "loss: 1.046375  [ 6464/60000]\n",
      "loss: 0.852092  [12864/60000]\n",
      "loss: 1.006321  [19264/60000]\n",
      "loss: 0.886062  [25664/60000]\n",
      "loss: 0.913372  [32064/60000]\n",
      "loss: 0.959452  [38464/60000]\n",
      "loss: 0.907566  [44864/60000]\n",
      "loss: 0.945861  [51264/60000]\n",
      "loss: 0.886937  [57664/60000]\n",
      "Test Error: \n",
      " Accuracy: 67.2%, Avg loss: 0.897989 \n",
      "\n",
      "Done!\n"
     ]
    }
   ],
   "source": [
    "epochs = 7\n",
    "for t in range(epochs):\n",
    "    print(f\"Epoch {t+1}\\n-------------------------------\")\n",
    "    train(train_dataloader, model, loss_fn, optimizer)\n",
    "    test(test_dataloader, model, loss_fn)\n",
    "print(\"Done!\")"
   ]
  },
  {
   "cell_type": "code",
   "execution_count": 12,
   "id": "99f11b2b-fe2b-47af-8791-3976603acf55",
   "metadata": {},
   "outputs": [
    {
     "name": "stdout",
     "output_type": "stream",
     "text": [
      "Saved PyTorch Model State to model.pth\n"
     ]
    }
   ],
   "source": [
    "torch.save(model.state_dict(), \"model.pth\")\n",
    "print(\"Saved PyTorch Model State to model.pth\")"
   ]
  },
  {
   "cell_type": "code",
   "execution_count": 13,
   "id": "6ba36827-dd0e-4cef-ad80-1683c43ad5ed",
   "metadata": {},
   "outputs": [
    {
     "data": {
      "text/plain": [
       "<All keys matched successfully>"
      ]
     },
     "execution_count": 13,
     "metadata": {},
     "output_type": "execute_result"
    }
   ],
   "source": [
    "model = NeuralNetwork().to(device)\n",
    "model.load_state_dict(torch.load(\"model.pth\", weights_only=True))"
   ]
  },
  {
   "cell_type": "code",
   "execution_count": 14,
   "id": "6cf16a4b-52b3-45b7-b3d9-f3cecca0c9bf",
   "metadata": {},
   "outputs": [
    {
     "name": "stdout",
     "output_type": "stream",
     "text": [
      "Predicted: \"Ankle boot\", Actual: \"Ankle boot\"\n"
     ]
    }
   ],
   "source": [
    "classes = [\n",
    "    \"T-shirt/top\",\n",
    "    \"Trouser\",\n",
    "    \"Pullover\",\n",
    "    \"Dress\",\n",
    "    \"Coat\",\n",
    "    \"Sandal\",\n",
    "    \"Shirt\",\n",
    "    \"Sneaker\",\n",
    "    \"Bag\",\n",
    "    \"Ankle boot\",\n",
    "]\n",
    "\n",
    "model.eval()\n",
    "x, y = test_data[0][0], test_data[0][1]\n",
    "with torch.no_grad():\n",
    "    x = x.to(device)\n",
    "    pred = model(x)\n",
    "    predicted, actual = classes[pred[0].argmax(0)], classes[y]\n",
    "    print(f'Predicted: \"{predicted}\", Actual: \"{actual}\"')"
   ]
  },
  {
   "cell_type": "code",
   "execution_count": 16,
   "id": "5c882d8c-5caf-4b9a-bb67-1b83341d7b45",
   "metadata": {},
   "outputs": [
    {
     "name": "stdout",
     "output_type": "stream",
     "text": [
      "Example 0 — Predicted: \"Ankle boot\", Actual: \"Ankle boot\"\n",
      "Example 1 — Predicted: \"Pullover\", Actual: \"Pullover\"\n",
      "Example 2 — Predicted: \"Trouser\", Actual: \"Trouser\"\n",
      "Example 3 — Predicted: \"Trouser\", Actual: \"Trouser\"\n",
      "Example 4 — Predicted: \"Shirt\", Actual: \"Shirt\"\n",
      "Example 5 — Predicted: \"Trouser\", Actual: \"Trouser\"\n",
      "Example 6 — Predicted: \"Shirt\", Actual: \"Coat\"\n",
      "Example 7 — Predicted: \"Coat\", Actual: \"Shirt\"\n",
      "Example 8 — Predicted: \"Sneaker\", Actual: \"Sandal\"\n",
      "Example 9 — Predicted: \"Sneaker\", Actual: \"Sneaker\"\n",
      "Example 10 — Predicted: \"Pullover\", Actual: \"Coat\"\n",
      "Example 11 — Predicted: \"Sandal\", Actual: \"Sandal\"\n",
      "Example 12 — Predicted: \"Sneaker\", Actual: \"Sneaker\"\n",
      "Example 13 — Predicted: \"Dress\", Actual: \"Dress\"\n",
      "Example 14 — Predicted: \"Coat\", Actual: \"Coat\"\n",
      "Example 15 — Predicted: \"Trouser\", Actual: \"Trouser\"\n",
      "Example 16 — Predicted: \"Pullover\", Actual: \"Pullover\"\n",
      "Example 17 — Predicted: \"Pullover\", Actual: \"Coat\"\n",
      "Example 18 — Predicted: \"Bag\", Actual: \"Bag\"\n",
      "Example 19 — Predicted: \"T-shirt/top\", Actual: \"T-shirt/top\"\n",
      "Example 20 — Predicted: \"Shirt\", Actual: \"Pullover\"\n",
      "Example 21 — Predicted: \"Sneaker\", Actual: \"Sandal\"\n",
      "Example 22 — Predicted: \"Sneaker\", Actual: \"Sneaker\"\n",
      "Example 23 — Predicted: \"Sneaker\", Actual: \"Ankle boot\"\n",
      "Example 24 — Predicted: \"Trouser\", Actual: \"Trouser\"\n",
      "Example 25 — Predicted: \"Pullover\", Actual: \"Coat\"\n",
      "Example 26 — Predicted: \"Coat\", Actual: \"Shirt\"\n",
      "Example 27 — Predicted: \"Dress\", Actual: \"T-shirt/top\"\n",
      "Example 28 — Predicted: \"Ankle boot\", Actual: \"Ankle boot\"\n",
      "Example 29 — Predicted: \"Dress\", Actual: \"Dress\"\n",
      "Example 30 — Predicted: \"Bag\", Actual: \"Bag\"\n",
      "Example 31 — Predicted: \"Bag\", Actual: \"Bag\"\n",
      "Example 32 — Predicted: \"Dress\", Actual: \"Dress\"\n",
      "Example 33 — Predicted: \"Dress\", Actual: \"Dress\"\n",
      "Example 34 — Predicted: \"Bag\", Actual: \"Bag\"\n",
      "Example 35 — Predicted: \"T-shirt/top\", Actual: \"T-shirt/top\"\n",
      "Example 36 — Predicted: \"Sneaker\", Actual: \"Sneaker\"\n",
      "Example 37 — Predicted: \"Sneaker\", Actual: \"Sandal\"\n",
      "Example 38 — Predicted: \"Sneaker\", Actual: \"Sneaker\"\n",
      "Example 39 — Predicted: \"Ankle boot\", Actual: \"Ankle boot\"\n",
      "Example 40 — Predicted: \"T-shirt/top\", Actual: \"Shirt\"\n",
      "Example 41 — Predicted: \"Trouser\", Actual: \"Trouser\"\n",
      "Example 42 — Predicted: \"Dress\", Actual: \"Dress\"\n",
      "Example 43 — Predicted: \"Ankle boot\", Actual: \"Sneaker\"\n",
      "Example 44 — Predicted: \"Coat\", Actual: \"Shirt\"\n",
      "Example 45 — Predicted: \"Ankle boot\", Actual: \"Sneaker\"\n",
      "Example 46 — Predicted: \"Pullover\", Actual: \"Pullover\"\n",
      "Example 47 — Predicted: \"Trouser\", Actual: \"Trouser\"\n",
      "Example 48 — Predicted: \"Coat\", Actual: \"Pullover\"\n",
      "Example 49 — Predicted: \"Coat\", Actual: \"Pullover\"\n",
      "Example 50 — Predicted: \"Pullover\", Actual: \"Coat\"\n",
      "Example 51 — Predicted: \"Pullover\", Actual: \"Coat\"\n",
      "Example 52 — Predicted: \"Sneaker\", Actual: \"Sandal\"\n",
      "Example 53 — Predicted: \"Pullover\", Actual: \"Bag\"\n",
      "Example 54 — Predicted: \"Coat\", Actual: \"Pullover\"\n",
      "Example 55 — Predicted: \"Pullover\", Actual: \"Pullover\"\n",
      "Example 56 — Predicted: \"Bag\", Actual: \"Bag\"\n",
      "Example 57 — Predicted: \"Coat\", Actual: \"Coat\"\n",
      "Example 58 — Predicted: \"Bag\", Actual: \"Bag\"\n",
      "Example 59 — Predicted: \"T-shirt/top\", Actual: \"T-shirt/top\"\n",
      "Example 60 — Predicted: \"Sneaker\", Actual: \"Sneaker\"\n",
      "Example 61 — Predicted: \"Sneaker\", Actual: \"Sneaker\"\n",
      "Example 62 — Predicted: \"Bag\", Actual: \"Bag\"\n",
      "Example 63 — Predicted: \"Sneaker\", Actual: \"Sandal\"\n",
      "Example 64 — Predicted: \"Trouser\", Actual: \"Trouser\"\n",
      "Example 65 — Predicted: \"Trouser\", Actual: \"Trouser\"\n",
      "Example 66 — Predicted: \"Dress\", Actual: \"Pullover\"\n",
      "Example 67 — Predicted: \"Dress\", Actual: \"Dress\"\n",
      "Example 68 — Predicted: \"Sneaker\", Actual: \"Ankle boot\"\n",
      "Example 69 — Predicted: \"Bag\", Actual: \"Bag\"\n",
      "Example 70 — Predicted: \"Sneaker\", Actual: \"Sneaker\"\n",
      "Example 71 — Predicted: \"T-shirt/top\", Actual: \"T-shirt/top\"\n",
      "Example 72 — Predicted: \"Shirt\", Actual: \"Pullover\"\n",
      "Example 73 — Predicted: \"T-shirt/top\", Actual: \"Shirt\"\n",
      "Example 74 — Predicted: \"Coat\", Actual: \"Pullover\"\n",
      "Example 75 — Predicted: \"Dress\", Actual: \"Dress\"\n",
      "Example 76 — Predicted: \"Trouser\", Actual: \"Trouser\"\n",
      "Example 77 — Predicted: \"Pullover\", Actual: \"Pullover\"\n",
      "Example 78 — Predicted: \"Bag\", Actual: \"Bag\"\n",
      "Example 79 — Predicted: \"Pullover\", Actual: \"Coat\"\n",
      "Example 80 — Predicted: \"Trouser\", Actual: \"Trouser\"\n",
      "Example 81 — Predicted: \"Bag\", Actual: \"Bag\"\n",
      "Example 82 — Predicted: \"Ankle boot\", Actual: \"Sandal\"\n",
      "Example 83 — Predicted: \"Ankle boot\", Actual: \"Ankle boot\"\n",
      "Example 84 — Predicted: \"Sneaker\", Actual: \"Sandal\"\n",
      "Example 85 — Predicted: \"T-shirt/top\", Actual: \"T-shirt/top\"\n",
      "Example 86 — Predicted: \"Dress\", Actual: \"Dress\"\n",
      "Example 87 — Predicted: \"Coat\", Actual: \"Pullover\"\n",
      "Example 88 — Predicted: \"T-shirt/top\", Actual: \"T-shirt/top\"\n",
      "Example 89 — Predicted: \"Pullover\", Actual: \"Shirt\"\n",
      "Example 90 — Predicted: \"Sandal\", Actual: \"Sandal\"\n",
      "Example 91 — Predicted: \"Dress\", Actual: \"Dress\"\n",
      "Example 92 — Predicted: \"Coat\", Actual: \"Shirt\"\n",
      "Example 93 — Predicted: \"Sneaker\", Actual: \"Sneaker\"\n",
      "Example 94 — Predicted: \"Trouser\", Actual: \"Trouser\"\n",
      "Example 95 — Predicted: \"Bag\", Actual: \"Bag\"\n",
      "Example 96 — Predicted: \"T-shirt/top\", Actual: \"T-shirt/top\"\n",
      "Example 97 — Predicted: \"Trouser\", Actual: \"Trouser\"\n",
      "Example 98 — Predicted: \"Pullover\", Actual: \"Coat\"\n",
      "Example 99 — Predicted: \"Pullover\", Actual: \"Pullover\"\n"
     ]
    }
   ],
   "source": [
    "for i in range(100):  # Test first 5 examples\n",
    "    x, y = test_data[i][0], test_data[i][1]\n",
    "    with torch.no_grad():\n",
    "        x = x.to(device)\n",
    "        pred = model(x)\n",
    "        predicted, actual = classes[pred[0].argmax(0)], classes[y]\n",
    "        print(f'Example {i} — Predicted: \"{predicted}\", Actual: \"{actual}\"')\n"
   ]
  },
  {
   "cell_type": "code",
   "execution_count": 17,
   "id": "f98b0eff-ee12-4b00-b368-29ae5a442252",
   "metadata": {},
   "outputs": [
    {
     "name": "stdout",
     "output_type": "stream",
     "text": [
      "Random Example 8034 — Predicted: \"T-shirt/top\", Actual: \"T-shirt/top\"\n"
     ]
    }
   ],
   "source": [
    "import random\n",
    "\n",
    "i = random.randint(0, len(test_data) - 1)\n",
    "x, y = test_data[i][0], test_data[i][1]\n",
    "with torch.no_grad():\n",
    "    x = x.to(device)\n",
    "    pred = model(x)\n",
    "    predicted, actual = classes[pred[0].argmax(0)], classes[y]\n",
    "    print(f'Random Example {i} — Predicted: \"{predicted}\", Actual: \"{actual}\"')\n"
   ]
  }
 ],
 "metadata": {
  "kernelspec": {
   "display_name": "Python 3 (ipykernel)",
   "language": "python",
   "name": "python3"
  },
  "language_info": {
   "codemirror_mode": {
    "name": "ipython",
    "version": 3
   },
   "file_extension": ".py",
   "mimetype": "text/x-python",
   "name": "python",
   "nbconvert_exporter": "python",
   "pygments_lexer": "ipython3",
   "version": "3.13.7"
  }
 },
 "nbformat": 4,
 "nbformat_minor": 5
}
